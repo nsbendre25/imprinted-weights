{
 "cells": [
  {
   "cell_type": "code",
   "execution_count": 1,
   "metadata": {},
   "outputs": [],
   "source": [
    "import numpy as np\n",
    "import glob\n",
    "import os\n",
    "import cv2"
   ]
  },
  {
   "cell_type": "code",
   "execution_count": 2,
   "metadata": {},
   "outputs": [],
   "source": [
    "path = \"./mnist_png/testing/\"\n",
    "label = sorted(os.listdir(path))"
   ]
  },
  {
   "cell_type": "code",
   "execution_count": 3,
   "metadata": {},
   "outputs": [],
   "source": [
    "for i in range(0,len(label)):\n",
    "    images = [cv2.imread(file) for file in sorted(glob.glob(path+label[i]+'/*.png'))]\n",
    "#     np.save('./images_{}.npy'.format(i), images)\n",
    "    labels = np.repeat(label[i], len(images))\n",
    "#     np.save('./labels_{}.npy'.format(i), labels)"
   ]
  },
  {
   "cell_type": "code",
   "execution_count": 4,
   "metadata": {},
   "outputs": [
    {
     "name": "stdout",
     "output_type": "stream",
     "text": [
      "(1009,)\n"
     ]
    }
   ],
   "source": [
    "print(labels.shape)"
   ]
  },
  {
   "cell_type": "code",
   "execution_count": 5,
   "metadata": {},
   "outputs": [
    {
     "name": "stdout",
     "output_type": "stream",
     "text": [
      "<class 'numpy.float64'>\n"
     ]
    }
   ],
   "source": [
    "N_classes = 5\n",
    "training_images_path = './training_images_npy/'\n",
    "training_labels_path = './training_labels_npy/'\n",
    "val_images_path = './testing_images_npy/'\n",
    "val_labels_path = './testing_labels_npy/'\n",
    "\n",
    "training_images = sorted(os.listdir(training_images_path))\n",
    "training_images = np.array(training_images)\n",
    "training_labels = sorted(os.listdir(training_labels_path))\n",
    "training_labels = np.array(training_labels)\n",
    "val_images = sorted(os.listdir(val_images_path))\n",
    "val_images = np.array(val_images)\n",
    "val_labels = sorted(os.listdir(val_labels_path))\n",
    "val_labels = np.array(val_labels)\n",
    "\n",
    "\n",
    "x_train = np.zeros((0, 28, 28, 3))\n",
    "y_train = np.zeros((0))\n",
    "\n",
    "x_val = np.zeros((0, 28, 28, 3))\n",
    "y_val = np.zeros((0))\n",
    "\n",
    "for i in range(0,N_classes):\n",
    "    x = np.load(training_images_path+'/'+training_images[i])\n",
    "    x_train = np.concatenate((x_train, x.astype(np.float)), axis =0)\n",
    "    y = np.load(training_labels_path+'/'+training_labels[i])\n",
    "    y_train = np.concatenate((y_train, y.astype(np.float)), axis =0)\n",
    "\n",
    "for i in range(0,N_classes):\n",
    "    xv = np.load(val_images_path+'/'+val_images[i])\n",
    "    x_val = np.concatenate((x_val, xv.astype(np.float)), axis =0)\n",
    "    yv = np.load(val_labels_path+'/'+val_labels[i])\n",
    "    y_val = np.concatenate((y_val, yv.astype(np.float)), axis =0)\n",
    "    \n",
    "# print(type(x_train))\n",
    "print(type(y_train[0]))\n",
    "# print(type(x_val))\n",
    "# print(type(y_val))\n",
    "\n",
    "# print(type(val_labels))"
   ]
  },
  {
   "cell_type": "code",
   "execution_count": null,
   "metadata": {},
   "outputs": [],
   "source": []
  }
 ],
 "metadata": {
  "kernelspec": {
   "display_name": "Python 3",
   "language": "python",
   "name": "python3"
  },
  "language_info": {
   "codemirror_mode": {
    "name": "ipython",
    "version": 3
   },
   "file_extension": ".py",
   "mimetype": "text/x-python",
   "name": "python",
   "nbconvert_exporter": "python",
   "pygments_lexer": "ipython3",
   "version": "3.6.8"
  }
 },
 "nbformat": 4,
 "nbformat_minor": 4
}
